{
 "cells": [
  {
   "cell_type": "code",
   "execution_count": 35,
   "metadata": {
    "scrolled": true
   },
   "outputs": [],
   "source": [
    "from sklearn.linear_model import LinearRegression, Ridge\n",
    "from sklearn.model_selection import RandomizedSearchCV, GridSearchCV\n",
    "from scipy.stats import randint\n",
    "from sklearn.externals import joblib\n",
    "import os\n",
    "import dill\n",
    "import numpy as np\n",
    "dill.load_session('display_error.db')\n",
    "\n",
    "#load training se\n",
    "load = os.path.join('../','train_ready.npz')\n",
    "with np.load(load) as data:\n",
    "    train_prepared = data['train_prepared']\n",
    "    train_labels = data['train_labels']\n",
    "    name = str(data['name'])"
   ]
  },
  {
   "cell_type": "markdown",
   "metadata": {},
   "source": [
    "Linear Regression"
   ]
  },
  {
   "cell_type": "code",
   "execution_count": 36,
   "metadata": {},
   "outputs": [
    {
     "data": {
      "text/plain": [
       "['(Default)housing_lin_reg.pkl']"
      ]
     },
     "execution_count": 36,
     "metadata": {},
     "output_type": "execute_result"
    }
   ],
   "source": [
    "#Linear Regression\n",
    "lin_reg = LinearRegression()\n",
    "lin_reg.fit(train_prepared, train_labels)\n",
    "\n",
    "project_folder = './' + name\n",
    "model_name = project_folder + '(Default)' + name + '_lin_reg.pkl'\n",
    "joblib.dump(lin_reg, model_name)"
   ]
  },
  {
   "cell_type": "markdown",
   "metadata": {},
   "source": [
    "Ridge"
   ]
  },
  {
   "cell_type": "code",
   "execution_count": 37,
   "metadata": {},
   "outputs": [
    {
     "data": {
      "text/plain": [
       "['(Default)housing_ridge.pkl']"
      ]
     },
     "execution_count": 37,
     "metadata": {},
     "output_type": "execute_result"
    }
   ],
   "source": [
    "#Ridge\n",
    "ridge = Ridge()\n",
    "ridge.fit(train_prepared, train_labels)\n",
    "\n",
    "model_name = project_folder + '(Default)' + name + '_ridge.pkl'\n",
    "joblib.dump(ridge, model_name)"
   ]
  },
  {
   "cell_type": "code",
   "execution_count": 38,
   "metadata": {},
   "outputs": [
    {
     "data": {
      "text/plain": [
       "['(Grid)housing_ridge.pkl']"
      ]
     },
     "execution_count": 38,
     "metadata": {},
     "output_type": "execute_result"
    }
   ],
   "source": [
    "#GridSearch fine tuning\n",
    "ridge_grid = [\n",
    "    { 'alpha': np.logspace(np.log10(0.1), np.log10(100), num=10) }\n",
    "]\n",
    "ridge_gr_search = GridSearchCV(ridge, ridge_grid, cv=5,\n",
    "                              scoring=\"neg_root_mean_squared_error\", return_train_score=True)\n",
    "ridge_gr_search.fit(train_prepared, train_labels)\n",
    "\n",
    "model_name = project_folder + '(Grid)' + name + '_ridge.pkl'\n",
    "joblib.dump(ridge_gr_search.best_estimator_, model_name)"
   ]
  },
  {
   "cell_type": "code",
   "execution_count": 39,
   "metadata": {},
   "outputs": [
    {
     "data": {
      "text/plain": [
       "['(Rand)housing_ridge.pkl']"
      ]
     },
     "execution_count": 39,
     "metadata": {},
     "output_type": "execute_result"
    }
   ],
   "source": [
    "#RandomizedSearch fine tuning\n",
    "ridge_dist = [\n",
    "    { 'alpha': randint(low=0.01, high=10000) }\n",
    "]\n",
    "ridge_rnd_search = RandomizedSearchCV(ridge, ridge_dist, cv=5, n_iter=100,\n",
    "                              scoring=\"neg_root_mean_squared_error\", return_train_score=True)\n",
    "ridge_rnd_search.fit(train_prepared, train_labels)\n",
    "\n",
    "model_name = project_folder + '(Rand)' + name + '_ridge.pkl'\n",
    "joblib.dump(ridge_rnd_search.best_estimator_, model_name)"
   ]
  }
 ],
 "metadata": {
  "kernelspec": {
   "display_name": "Python 3",
   "language": "python",
   "name": "python3"
  },
  "language_info": {
   "codemirror_mode": {
    "name": "ipython",
    "version": 3
   },
   "file_extension": ".py",
   "mimetype": "text/x-python",
   "name": "python",
   "nbconvert_exporter": "python",
   "pygments_lexer": "ipython3",
   "version": "3.6.9"
  }
 },
 "nbformat": 4,
 "nbformat_minor": 4
}
