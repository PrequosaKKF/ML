{
 "cells": [
  {
   "cell_type": "code",
   "execution_count": 32,
   "metadata": {},
   "outputs": [],
   "source": [
    "from sklearn.ensemble import RandomForestRegressor\n",
    "from sklearn.model_selection import RandomizedSearchCV, GridSearchCV\n",
    "from scipy.stats import randint\n",
    "from sklearn.externals import joblib\n",
    "import os\n",
    "import dill\n",
    "import numpy as np\n",
    "dill.load_session('display_error.db')\n",
    "\n",
    "#load training set\n",
    "load = os.path.join('../','train_ready.npz')\n",
    "with np.load(load) as data:\n",
    "    train_prepared = data['train_prepared']\n",
    "    train_labels = data['train_labels']\n",
    "    test_x = data[\"test_prepared\"]\n",
    "    test_y = data[\"test_labels\"]\n",
    "    name = str(data['name'])\n",
    "    features = data['features']\n",
    "    project_folder = './' + name +'/'"
   ]
  },
  {
   "cell_type": "markdown",
   "metadata": {},
   "source": [
    "Random Forest Regression"
   ]
  },
  {
   "cell_type": "code",
   "execution_count": 11,
   "metadata": {},
   "outputs": [
    {
     "data": {
      "text/plain": [
       "['./housing/(Default)housing_forest_reg.pkl']"
      ]
     },
     "execution_count": 11,
     "metadata": {},
     "output_type": "execute_result"
    }
   ],
   "source": [
    "forest_reg = RandomForestRegressor(n_jobs=-1)\n",
    "forest_reg.fit(train_prepared, train_labels)\n",
    "\n",
    "model_name = project_folder + '(Default)' + name + '_forest_reg.pkl'\n",
    "joblib.dump(forest_reg, model_name)"
   ]
  },
  {
   "cell_type": "markdown",
   "metadata": {},
   "source": [
    "Randomized search"
   ]
  },
  {
   "cell_type": "code",
   "execution_count": 15,
   "metadata": {},
   "outputs": [
    {
     "data": {
      "text/plain": [
       "RandomizedSearchCV(cv=5, error_score=nan,\n",
       "                   estimator=RandomForestRegressor(bootstrap=True,\n",
       "                                                   ccp_alpha=0.0,\n",
       "                                                   criterion='mse',\n",
       "                                                   max_depth=None,\n",
       "                                                   max_features='auto',\n",
       "                                                   max_leaf_nodes=None,\n",
       "                                                   max_samples=None,\n",
       "                                                   min_impurity_decrease=0.0,\n",
       "                                                   min_impurity_split=None,\n",
       "                                                   min_samples_leaf=1,\n",
       "                                                   min_samples_split=2,\n",
       "                                                   min_weight_fraction_leaf=0.0,\n",
       "                                                   n_estimators=100, n_jobs=-1,\n",
       "                                                   oob_score=False,...\n",
       "                   iid='deprecated', n_iter=50, n_jobs=None,\n",
       "                   param_distributions={'max_features': <scipy.stats._distn_infrastructure.rv_frozen object at 0x7feeb8dac438>,\n",
       "                                        'n_estimators': <scipy.stats._distn_infrastructure.rv_frozen object at 0x7feeb8dacd30>},\n",
       "                   pre_dispatch='2*n_jobs', random_state=None, refit=True,\n",
       "                   return_train_score=True,\n",
       "                   scoring='neg_root_mean_squared_error', verbose=0)"
      ]
     },
     "execution_count": 15,
     "metadata": {},
     "output_type": "execute_result"
    }
   ],
   "source": [
    "param_distribs = {\n",
    "    'n_estimators': randint(low=10, high=500),\n",
    "    'max_features': randint(low=2, high=int(train_prepared.shape[1]))\n",
    "}\n",
    "forest = RandomForestRegressor(n_jobs=-1)\n",
    "rnd_forest_reg = RandomizedSearchCV(forest, param_distribs, n_iter=50, cv=5,\n",
    "                               scoring=\"neg_root_mean_squared_error\", return_train_score=True)\n",
    "rnd_forest_reg.fit(train_prepared, train_labels)\n",
    "model_name = project_folder + '(Rand)' + name + '_forest_reg.pkl'\n",
    "joblib.dump(rnd_forest_reg, model_name)"
   ]
  }
 ],
 "metadata": {
  "kernelspec": {
   "display_name": "Python 3",
   "language": "python",
   "name": "python3"
  },
  "language_info": {
   "codemirror_mode": {
    "name": "ipython",
    "version": 3
   },
   "file_extension": ".py",
   "mimetype": "text/x-python",
   "name": "python",
   "nbconvert_exporter": "python",
   "pygments_lexer": "ipython3",
   "version": "3.6.9"
  }
 },
 "nbformat": 4,
 "nbformat_minor": 4
}
