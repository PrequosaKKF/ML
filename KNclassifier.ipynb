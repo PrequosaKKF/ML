{
 "cells": [
  {
   "cell_type": "code",
   "execution_count": 5,
   "metadata": {},
   "outputs": [],
   "source": [
    "from sklearn.neighbors import KNeighborsClassifier\n",
    "from sklearn.model_selection import RandomizedSearchCV, GridSearchCV\n",
    "from scipy.stats import randint\n",
    "from sklearn.externals import joblib\n",
    "import os\n",
    "import dill\n",
    "import numpy as np\n",
    "%run ./Performance\\ measure.py\n",
    "\n",
    "#load training set\n",
    "load = os.path.join('../','MNIST_ready.npz')\n",
    "with np.load(load) as data:\n",
    "    X = data['train_prepared']\n",
    "    Y = data['train_labels']\n",
    "    name = str(data['name'])"
   ]
  },
  {
   "cell_type": "code",
   "execution_count": 6,
   "metadata": {},
   "outputs": [
    {
     "data": {
      "text/plain": [
       "['./MNIST(Default)MNIST_KN_clf.pkl']"
      ]
     },
     "execution_count": 6,
     "metadata": {},
     "output_type": "execute_result"
    }
   ],
   "source": [
    "#Default\n",
    "KN_clf = KNeighborsClassifier(n_jobs=3)\n",
    "KN_clf.fit(X, Y)\n",
    "\n",
    "project_folder = './' + name + '/'\n",
    "model_name = project_folder + '(Default)' + name + '_KN_clf.pkl'\n",
    "joblib.dump(KN_clf, model_name)"
   ]
  },
  {
   "cell_type": "code",
   "execution_count": null,
   "metadata": {},
   "outputs": [
    {
     "name": "stdout",
     "output_type": "stream",
     "text": [
      "Fitting 5 folds for each of 32 candidates, totalling 160 fits\n"
     ]
    },
    {
     "name": "stderr",
     "output_type": "stream",
     "text": [
      "[Parallel(n_jobs=3)]: Using backend LokyBackend with 3 concurrent workers.\n",
      "[Parallel(n_jobs=3)]: Done  35 tasks      | elapsed: 121.9min\n"
     ]
    }
   ],
   "source": [
    "#GridSearch\n",
    "param_grid = [\n",
    "    {'n_neighbors':[3, 10, 30, 100], \n",
    "     'weights': ['uniform', 'distance'],\n",
    "     'algorithm': ['auto', 'kd_tree', 'ball_tree', 'brute'] }\n",
    "]\n",
    "grid = GridSearchCV(KN_clf, param_grid, cv=5, verbose=2, n_jobs=3, \n",
    "                    scoring='neg_mean_squared_error')\n",
    "grid.fit(X, Y)\n",
    "\n",
    "model_name = project_folder + '(Grid)' + name + '_KN_clf.pkl'\n",
    "joblib.dump(KN_clf, model_name)"
   ]
  },
  {
   "cell_type": "code",
   "execution_count": null,
   "metadata": {},
   "outputs": [],
   "source": [
    "param_dist = [\n",
    "    {'n_neighbors': np.ceil(expon(scale=10.0).rvs(1000000)), \n",
    "     'weights': ['uniform', 'distance'],\n",
    "     'algorithm': ['auto', 'kd_tree', 'ball_tree', 'brute'] }\n",
    "]\n",
    "rand = RandomizedSearchCV(KN_clf, param_dist, cv=5, verbose=2, n_jobs=3, \n",
    "                    scoring='neg_mean_squared_error')\n",
    "rand.fit(X, Y)\n",
    "\n",
    "model_name = project_folder + '(Rand)' + name + '_KN_clf.pkl'\n",
    "joblib.dump(KN_clf, model_name)"
   ]
  },
  {
   "cell_type": "code",
   "execution_count": null,
   "metadata": {},
   "outputs": [],
   "source": []
  }
 ],
 "metadata": {
  "kernelspec": {
   "display_name": "Python 3",
   "language": "python",
   "name": "python3"
  },
  "language_info": {
   "codemirror_mode": {
    "name": "ipython",
    "version": 3
   },
   "file_extension": ".py",
   "mimetype": "text/x-python",
   "name": "python",
   "nbconvert_exporter": "python",
   "pygments_lexer": "ipython3",
   "version": "3.6.9"
  }
 },
 "nbformat": 4,
 "nbformat_minor": 4
}
