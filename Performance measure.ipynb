{
 "cells": [
  {
   "cell_type": "code",
   "execution_count": 2,
   "metadata": {},
   "outputs": [
    {
     "name": "stdout",
     "output_type": "stream",
     "text": [
      "Overwriting Performance measure.py\n"
     ]
    }
   ],
   "source": [
    "%%writefile 'Performance measure.py'\n",
    "from sklearn.metrics import mean_squared_error, mean_absolute_error\n",
    "from sklearn.model_selection import cross_val_score\n",
    "import numpy as np\n",
    "import dill\n",
    "\n",
    "#rmse=root mean squared error, mae=mean absolute error\n",
    "def rmse(model, train_prepared, train_labels, name):\n",
    "    predictions = model.predict(train_prepared)\n",
    "    mse = mean_squared_error(train_labels, predictions)\n",
    "    rmse = np.sqrt(mse)\n",
    "    print('Trained using {} \\n rmse: {:.2f}'.format(name, rmse))\n",
    "def mae(model, train_prepared, train_labels, name):\n",
    "    predictions = model.predict(train_prepared)\n",
    "    mae = mean_absolute_error(train_labels, predictions)\n",
    "    print('Trained using {} \\n mae: {:.2f}'.format(name, mae))\n",
    "def rmse_mae(model, train_prepared, train_labels, name):\n",
    "    predictions = model.predict(train_prepared)\n",
    "    mse = mean_squared_error(train_labels, predictions)\n",
    "    rmse = np.sqrt(mse)\n",
    "    mae = mean_absolute_error(train_labels, predictions)\n",
    "    print('Trained using {} \\n rmse: {:.2f}, mae: {:.2f}'.format(name, rmse, mae))\n",
    "\n",
    "#display cv scores, its mean, and its standard deviation\n",
    "def display_scores(scores):\n",
    "    print(\"Scores:\", scores)\n",
    "    print(\"Mean:\", scores.mean())\n",
    "    print(\"Standard deviation:\", scores.std())\n",
    "#doing cross validaton\n",
    "def cv_scores(model, train_prepared, train_labels):\n",
    "    scores = cross_val_score(model, train_prepared, train_labels,\n",
    "                            scoring=\"neg_root_mean_squared_error\", cv=10, n_jobs=3, verbose=2)\n",
    "    return -scores"
   ]
  },
  {
   "cell_type": "code",
   "execution_count": null,
   "metadata": {},
   "outputs": [],
   "source": []
  }
 ],
 "metadata": {
  "kernelspec": {
   "display_name": "Python 3",
   "language": "python",
   "name": "python3"
  },
  "language_info": {
   "codemirror_mode": {
    "name": "ipython",
    "version": 3
   },
   "file_extension": ".py",
   "mimetype": "text/x-python",
   "name": "python",
   "nbconvert_exporter": "python",
   "pygments_lexer": "ipython3",
   "version": "3.6.9"
  }
 },
 "nbformat": 4,
 "nbformat_minor": 4
}
