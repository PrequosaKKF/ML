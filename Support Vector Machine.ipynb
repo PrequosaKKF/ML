{
 "cells": [
  {
   "cell_type": "code",
   "execution_count": 9,
   "metadata": {},
   "outputs": [],
   "source": [
    "from sklearn.svm import SVR\n",
    "from sklearn.model_selection import RandomizedSearchCV, GridSearchCV\n",
    "from scipy.stats import randint, reciprocal, expon\n",
    "from sklearn.externals import joblib\n",
    "import os\n",
    "import dill\n",
    "import numpy as np\n",
    "from numpy import logspace, log10\n",
    "dill.load_session('display_error.db')\n",
    "\n",
    "#load training set\n",
    "load = os.path.join('../','train_ready.npz')\n",
    "with np.load(load) as data:\n",
    "    x_train = data['train_prepared']\n",
    "    y_train = data['train_labels']\n",
    "    name = str(data['name'])\n",
    "    features = data['features']\n",
    "    project_folder = './' + name +'/'"
   ]
  },
  {
   "cell_type": "code",
   "execution_count": 3,
   "metadata": {},
   "outputs": [
    {
     "data": {
      "text/plain": [
       "['./housing/(Default)housingSVR.pkl']"
      ]
     },
     "execution_count": 3,
     "metadata": {},
     "output_type": "execute_result"
    }
   ],
   "source": [
    "svm_reg = SVR()\n",
    "svm_reg.fit(x_train, y_train)\n",
    "\n",
    "model_name = project_folder + '(Default)' + name + '_SVR.pkl'\n",
    "joblib.dump(svm_reg, model_name)"
   ]
  },
  {
   "cell_type": "markdown",
   "metadata": {},
   "source": [
    "GridSearch"
   ]
  },
  {
   "cell_type": "code",
   "execution_count": 8,
   "metadata": {},
   "outputs": [
    {
     "name": "stdout",
     "output_type": "stream",
     "text": [
      "Fitting 5 folds for each of 110 candidates, totalling 550 fits\n"
     ]
    },
    {
     "name": "stderr",
     "output_type": "stream",
     "text": [
      "[Parallel(n_jobs=3)]: Using backend LokyBackend with 3 concurrent workers.\n",
      "[Parallel(n_jobs=3)]: Done  35 tasks      | elapsed:  1.9min\n",
      "[Parallel(n_jobs=3)]: Done 156 tasks      | elapsed: 11.2min\n",
      "[Parallel(n_jobs=3)]: Done 359 tasks      | elapsed: 27.2min\n",
      "[Parallel(n_jobs=3)]: Done 550 out of 550 | elapsed: 41.9min finished\n"
     ]
    },
    {
     "data": {
      "text/plain": [
       "['./housing/(Grid)housing_SVR.pkl']"
      ]
     },
     "execution_count": 8,
     "metadata": {},
     "output_type": "execute_result"
    }
   ],
   "source": [
    "param_grid = [\n",
    "    {'kernel':['linear'], 'C': logspace(log10(0.01), log10(10000), 11)},\n",
    "    {'kernel':['rbf'], 'C': logspace(log10(0.01), log10(10000), 11), \n",
    "                       'gamma': [0.01, 0.03, 0.1, 0.3, 1.0, 3.0, 10.0, 30.0, 100.0]}\n",
    "]\n",
    "svm_reg = SVR()\n",
    "grid = GridSearchCV(svm_reg, param_grid, cv=5, verbose=2, n_jobs=3, scoring='neg_mean_squared_error')\n",
    "grid.fit(x_train, y_train)\n",
    "model_name = project_folder + '(Grid)' + name + '_SVR.pkl'\n",
    "joblib.dump(grid, model_name)"
   ]
  },
  {
   "cell_type": "markdown",
   "metadata": {},
   "source": [
    "Randomized Search"
   ]
  },
  {
   "cell_type": "code",
   "execution_count": 12,
   "metadata": {},
   "outputs": [
    {
     "name": "stdout",
     "output_type": "stream",
     "text": [
      "Fitting 5 folds for each of 250 candidates, totalling 1250 fits\n"
     ]
    },
    {
     "name": "stderr",
     "output_type": "stream",
     "text": [
      "[Parallel(n_jobs=3)]: Using backend LokyBackend with 3 concurrent workers.\n",
      "[Parallel(n_jobs=3)]: Done  26 tasks      | elapsed: 10.5min\n",
      "[Parallel(n_jobs=3)]: Done 122 tasks      | elapsed: 39.7min\n",
      "[Parallel(n_jobs=3)]: Done 282 tasks      | elapsed: 195.0min\n",
      "[Parallel(n_jobs=3)]: Done 506 tasks      | elapsed: 301.7min\n",
      "[Parallel(n_jobs=3)]: Done 794 tasks      | elapsed: 369.9min\n",
      "[Parallel(n_jobs=3)]: Done 1146 tasks      | elapsed: 437.6min\n",
      "[Parallel(n_jobs=3)]: Done 1250 out of 1250 | elapsed: 447.9min finished\n"
     ]
    },
    {
     "data": {
      "text/plain": [
       "['./housing/(Rand)housing_SVR.pkl']"
      ]
     },
     "execution_count": 12,
     "metadata": {},
     "output_type": "execute_result"
    }
   ],
   "source": [
    "param_dist = [\n",
    "    {'kernel':['linear', 'rbf'],\n",
    "     'C': reciprocal(20,200000),\n",
    "     'gamma': expon(scale=1.0)}\n",
    "]\n",
    "svm_reg = SVR()\n",
    "rand = RandomizedSearchCV(svm_reg, param_dist, cv=5, scoring=\"neg_mean_squared_error\", \n",
    "                          n_iter=250, verbose=3, n_jobs=3)\n",
    "rand.fit(x_train, y_train)\n",
    "model_name = project_folder + '(Rand)' + name + '_SVR.pkl'\n",
    "joblib.dump(rand, model_name)"
   ]
  },
  {
   "cell_type": "code",
   "execution_count": null,
   "metadata": {},
   "outputs": [],
   "source": []
  }
 ],
 "metadata": {
  "kernelspec": {
   "display_name": "Python 3",
   "language": "python",
   "name": "python3"
  },
  "language_info": {
   "codemirror_mode": {
    "name": "ipython",
    "version": 3
   },
   "file_extension": ".py",
   "mimetype": "text/x-python",
   "name": "python",
   "nbconvert_exporter": "python",
   "pygments_lexer": "ipython3",
   "version": "3.6.9"
  }
 },
 "nbformat": 4,
 "nbformat_minor": 4
}
